{
 "cells": [
  {
   "attachments": {},
   "cell_type": "markdown",
   "metadata": {},
   "source": [
    "Recommendations:\n",
    "- Men purchase more products and spend more on average, so thet company should focus on attracting more female buyers. This could be done by advertising product 5 more than others since that is the most bought product by females.\n",
    "- Overall product categories 1, 5, and 8 are the most purchased. The company may want to focus more of it's marketing efforts on these products\n",
    "- Unmarried people tend to buy more, so the company should focus on attracting more married couples.\n",
    "- People in the age range of 26-35 purchase the most by far, so the company should try and aquire a broader range of ages.\n",
    "- City Category B is the most popular, so the company should open more stores and focus more of it's business there."
   ]
  }
 ],
 "metadata": {
  "language_info": {
   "name": "python"
  },
  "orig_nbformat": 4
 },
 "nbformat": 4,
 "nbformat_minor": 2
}
